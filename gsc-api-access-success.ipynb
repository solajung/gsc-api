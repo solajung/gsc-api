{
 "cells": [
  {
   "cell_type": "code",
   "execution_count": 2,
   "id": "d3ec85ee-417d-45a7-9bdd-bbbaa744f6c0",
   "metadata": {},
   "outputs": [],
   "source": [
    "import argparse\n",
    "import httplib2\n",
    "import requests\n",
    " \n",
    "from collections import defaultdict\n",
    "from dateutil import relativedelta\n",
    "from googleapiclient.discovery import build\n",
    "from oauth2client import client\n",
    "from oauth2client import file\n",
    "from oauth2client import tools"
   ]
  },
  {
   "cell_type": "code",
   "execution_count": 4,
   "id": "a3004869-3b9c-4772-af58-24f5507bbe7b",
   "metadata": {},
   "outputs": [
    {
     "name": "stderr",
     "output_type": "stream",
     "text": [
      "C:\\Users\\USER\\AppData\\Local\\Programs\\Python\\Python312\\Lib\\site-packages\\oauth2client\\_helpers.py:255: UserWarning: Cannot access searchconsole.dat: No such file or directory\n",
      "  warnings.warn(_MISSING_FILE_MESSAGE.format(filename))\n"
     ]
    },
    {
     "name": "stdout",
     "output_type": "stream",
     "text": [
      "\n",
      "Your browser has been opened to visit:\n",
      "\n",
      "    https://accounts.google.com/o/oauth2/v2/auth?client_id=165277451909-549djem84js33jh3thql01iccovj6hsl.apps.googleusercontent.com&redirect_uri=http%3A%2F%2Flocalhost%3A8080%2F&scope=https%3A%2F%2Fwww.googleapis.com%2Fauth%2Fwebmasters.readonly&access_type=offline&response_type=code\n",
      "\n",
      "If your browser is on a different machine then exit and re-run this\n",
      "application with the command-line parameter\n",
      "\n",
      "  --noauth_local_webserver\n",
      "\n",
      "Authentication successful.\n"
     ]
    }
   ],
   "source": [
    "# Google Cloud Project Client ID & Client Secrets\n",
    "CLIENT_ID = \"165277451909-549djem84js33jh3thql01iccovj6hsl.apps.googleusercontent.com\"\n",
    "CLIENT_SECRET = \"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\"\n",
    "\n",
    "# Define Oath scopes with read only access\n",
    "OAUTH_SCOPE = \"https://www.googleapis.com/auth/webmasters.readonly\"\n",
    "\n",
    "parser = argparse.ArgumentParser(\n",
    "    formatter_class=argparse.RawDescriptionHelpFormatter,\n",
    "    parents=[tools.argparser])\n",
    "flags = parser.parse_args([])\n",
    " \n",
    "flow = client.OAuth2WebServerFlow(client_id=CLIENT_ID,\n",
    "                           client_secret=CLIENT_SECRET,\n",
    "                           scope=OAUTH_SCOPE)\n",
    " \n",
    "storage = file.Storage('searchconsole.dat')\n",
    " \n",
    "credentials = storage.get()\n",
    "if credentials is None or credentials.invalid:\n",
    "  credentials = tools.run_flow(flow, storage, flags)\n",
    " \n",
    "# Create an httplib2.Http object and authorize it with our credentials\n",
    "http = credentials.authorize(http=httplib2.Http())"
   ]
  },
  {
   "cell_type": "code",
   "execution_count": 20,
   "id": "3c5127c6-5b17-45b6-a509-6ad854254d2d",
   "metadata": {},
   "outputs": [],
   "source": [
    "webmasters_service = build('searchconsole', 'v1', http)"
   ]
  },
  {
   "cell_type": "code",
   "execution_count": 21,
   "id": "25c81e28-db66-4ebe-8b93-da55ba1045f5",
   "metadata": {},
   "outputs": [
    {
     "data": {
      "text/plain": [
       "<googleapiclient.discovery.Resource at 0x24f0d2dd8b0>"
      ]
     },
     "execution_count": 21,
     "metadata": {},
     "output_type": "execute_result"
    }
   ],
   "source": [
    "webmasters_service"
   ]
  },
  {
   "cell_type": "markdown",
   "id": "cb2898d8-71f7-4f63-9985-f049f935693a",
   "metadata": {},
   "source": [
    "How to get a list of Sites we have in GSC Account?"
   ]
  },
  {
   "cell_type": "code",
   "execution_count": 23,
   "id": "85706d20-7ccb-435b-b899-46950cfbb704",
   "metadata": {},
   "outputs": [
    {
     "name": "stdout",
     "output_type": "stream",
     "text": [
      "{'siteEntry': [{'siteUrl': 'https://www.samsung.com/cz/', 'permissionLevel': 'siteRestrictedUser'}, {'siteUrl': 'https://www.samsung.com/ch_fr/', 'permissionLevel': 'siteRestrictedUser'}, {'siteUrl': 'https://www.samsung.com/rs/', 'permissionLevel': 'siteRestrictedUser'}, {'siteUrl': 'https://www.samsung.com/co/', 'permissionLevel': 'siteRestrictedUser'}, {'siteUrl': 'https://www.samsung.com/jp/', 'permissionLevel': 'siteRestrictedUser'}, {'siteUrl': 'https://www.ascentkorea.com/', 'permissionLevel': 'siteUnverifiedUser'}, {'siteUrl': 'https://www.samsung.com/cl/', 'permissionLevel': 'siteRestrictedUser'}, {'siteUrl': 'https://www.samsung.com/br/', 'permissionLevel': 'siteRestrictedUser'}, {'siteUrl': 'https://www.samsung.com/mk/', 'permissionLevel': 'siteRestrictedUser'}, {'siteUrl': 'https://www.samsung.com/sa_en/', 'permissionLevel': 'siteRestrictedUser'}, {'siteUrl': 'https://www.samsung.com/cn/', 'permissionLevel': 'siteRestrictedUser'}, {'siteUrl': 'https://www.samsung.com/africa_fr/', 'permissionLevel': 'siteRestrictedUser'}, {'siteUrl': 'https://www.samsung.com/levant/', 'permissionLevel': 'siteRestrictedUser'}, {'siteUrl': 'https://www.samsung.com/bd/', 'permissionLevel': 'siteRestrictedUser'}, {'siteUrl': 'https://www.samsung.com/ae_ar/', 'permissionLevel': 'siteRestrictedUser'}, {'siteUrl': 'https://www.samsung.com/pe/', 'permissionLevel': 'siteRestrictedUser'}, {'siteUrl': 'https://www.samsung.com/iran/', 'permissionLevel': 'siteRestrictedUser'}, {'siteUrl': 'https://www.samsung.com/at/', 'permissionLevel': 'siteRestrictedUser'}, {'siteUrl': 'https://www.samsung.com/be/', 'permissionLevel': 'siteRestrictedUser'}, {'siteUrl': 'https://www.samsung.com/', 'permissionLevel': 'siteRestrictedUser'}, {'siteUrl': 'https://www.samsung.com/il/', 'permissionLevel': 'siteRestrictedUser'}, {'siteUrl': 'https://www.samsung.com/es/', 'permissionLevel': 'siteRestrictedUser'}, {'siteUrl': 'https://www.samsung.com/mm/', 'permissionLevel': 'siteRestrictedUser'}, {'siteUrl': 'https://www.samsung.com/az/', 'permissionLevel': 'siteRestrictedUser'}, {'siteUrl': 'https://www.samsung.com/be_fr/', 'permissionLevel': 'siteRestrictedUser'}, {'siteUrl': 'https://www.samsung.com/id/', 'permissionLevel': 'siteRestrictedUser'}, {'siteUrl': 'https://www.samsung.com/lt/', 'permissionLevel': 'siteRestrictedUser'}, {'siteUrl': 'https://www.samsung.com/za/', 'permissionLevel': 'siteRestrictedUser'}, {'siteUrl': 'https://www.samsung.com/pt/', 'permissionLevel': 'siteRestrictedUser'}, {'siteUrl': 'https://www.samsung.com/mx/', 'permissionLevel': 'siteRestrictedUser'}, {'siteUrl': 'https://www.samsung.com/se/', 'permissionLevel': 'siteRestrictedUser'}, {'siteUrl': 'https://www.samsung.com/iq_ku/', 'permissionLevel': 'siteRestrictedUser'}, {'siteUrl': 'https://www.samsung.com/hk/', 'permissionLevel': 'siteRestrictedUser'}, {'siteUrl': 'https://www.samsung.com/tw/', 'permissionLevel': 'siteRestrictedUser'}, {'siteUrl': 'https://www.samsung.com/lv/', 'permissionLevel': 'siteRestrictedUser'}, {'siteUrl': 'https://www.samsung.com/latin_en/', 'permissionLevel': 'siteRestrictedUser'}, {'siteUrl': 'https://www.samsung.com/sa/', 'permissionLevel': 'siteRestrictedUser'}, {'siteUrl': 'https://www.samsung.com/uz_ru/', 'permissionLevel': 'siteRestrictedUser'}, {'siteUrl': 'https://www.samsung.com/tr/', 'permissionLevel': 'siteRestrictedUser'}, {'siteUrl': 'https://www.samsung.com/ee/', 'permissionLevel': 'siteRestrictedUser'}, {'siteUrl': 'https://www.samsung.com/ae/', 'permissionLevel': 'siteRestrictedUser'}, {'siteUrl': 'https://www.samsung.com/levant_ar/', 'permissionLevel': 'siteRestrictedUser'}, {'siteUrl': 'https://www.samsung.com/ph/', 'permissionLevel': 'siteRestrictedUser'}, {'siteUrl': 'https://www.samsung.com/kz_ru/', 'permissionLevel': 'siteRestrictedUser'}, {'siteUrl': 'https://www.samsung.com/ie/', 'permissionLevel': 'siteRestrictedUser'}, {'siteUrl': 'https://www.samsung.com/mn/', 'permissionLevel': 'siteRestrictedUser'}, {'siteUrl': 'https://www.samsung.com/latin/', 'permissionLevel': 'siteRestrictedUser'}, {'siteUrl': 'https://www.samsung.com/fi/', 'permissionLevel': 'siteRestrictedUser'}, {'siteUrl': 'https://www.samsung.com/nz/', 'permissionLevel': 'siteRestrictedUser'}, {'siteUrl': 'https://www.samsung.com/nl/', 'permissionLevel': 'siteRestrictedUser'}, {'siteUrl': 'https://www.samsung.com/th/', 'permissionLevel': 'siteRestrictedUser'}, {'siteUrl': 'https://www.samsung.com/au/', 'permissionLevel': 'siteRestrictedUser'}, {'siteUrl': 'https://www.samsung.com/my/', 'permissionLevel': 'siteRestrictedUser'}, {'siteUrl': 'https://www.samsung.com/ru/', 'permissionLevel': 'siteRestrictedUser'}, {'siteUrl': 'https://www.samsung.com.cn/', 'permissionLevel': 'siteRestrictedUser'}, {'siteUrl': 'https://www.samsung.com/sk/', 'permissionLevel': 'siteRestrictedUser'}, {'siteUrl': 'https://www.samsung.com/africa_en/', 'permissionLevel': 'siteRestrictedUser'}, {'siteUrl': 'https://www.samsung.com/ro/', 'permissionLevel': 'siteRestrictedUser'}, {'siteUrl': 'https://www.samsung.com/it/', 'permissionLevel': 'siteRestrictedUser'}, {'siteUrl': 'https://www.samsung.com/ch/', 'permissionLevel': 'siteRestrictedUser'}, {'siteUrl': 'https://www.samsung.com/pk/', 'permissionLevel': 'siteRestrictedUser'}, {'siteUrl': 'https://www.samsung.com/uy/', 'permissionLevel': 'siteRestrictedUser'}, {'siteUrl': 'https://www.samsung.com/uz_uz/', 'permissionLevel': 'siteRestrictedUser'}, {'siteUrl': 'https://www.samsung.com/vn/', 'permissionLevel': 'siteRestrictedUser'}, {'siteUrl': 'https://www.samsung.com/dk/', 'permissionLevel': 'siteRestrictedUser'}, {'siteUrl': 'https://www.samsung.com/eg/', 'permissionLevel': 'siteRestrictedUser'}, {'siteUrl': 'https://www.samsung.com/hu/', 'permissionLevel': 'siteRestrictedUser'}, {'siteUrl': 'https://www.samsung.com/ps/', 'permissionLevel': 'siteRestrictedUser'}, {'siteUrl': 'https://www.samsung.com/fr/', 'permissionLevel': 'siteRestrictedUser'}, {'siteUrl': 'https://www.samsung.com/si/', 'permissionLevel': 'siteRestrictedUser'}, {'siteUrl': 'https://www.samsung.com/ge/', 'permissionLevel': 'siteRestrictedUser'}, {'siteUrl': 'https://www.samsung.com/al/', 'permissionLevel': 'siteRestrictedUser'}, {'siteUrl': 'https://www.samsung.com/ba/', 'permissionLevel': 'siteRestrictedUser'}, {'siteUrl': 'https://www.samsung.com/ca_fr/', 'permissionLevel': 'siteRestrictedUser'}, {'siteUrl': 'https://www.samsung.com/gr/', 'permissionLevel': 'siteRestrictedUser'}, {'siteUrl': 'https://www.samsung.com/uk/', 'permissionLevel': 'siteRestrictedUser'}, {'siteUrl': 'https://www.samsung.com/hr/', 'permissionLevel': 'siteRestrictedUser'}, {'siteUrl': 'https://www.samsung.com/in/', 'permissionLevel': 'siteRestrictedUser'}, {'siteUrl': 'https://www.samsung.com/us/', 'permissionLevel': 'siteRestrictedUser'}, {'siteUrl': 'https://www.samsung.com/bg/', 'permissionLevel': 'siteRestrictedUser'}, {'siteUrl': 'https://www.samsung.com/n_africa/', 'permissionLevel': 'siteRestrictedUser'}, {'siteUrl': 'https://www.samsung.com/us/smartphones/galaxy-s24/galaxy-ai/', 'permissionLevel': 'siteUnverifiedUser'}, {'siteUrl': 'https://www.samsung.com/sec/', 'permissionLevel': 'siteRestrictedUser'}, {'siteUrl': 'https://www.samsung.com/ua/', 'permissionLevel': 'siteRestrictedUser'}, {'siteUrl': 'https://www.samsung.com/iq_ar/', 'permissionLevel': 'siteRestrictedUser'}, {'siteUrl': 'https://www.samsung.com/kz_kz/', 'permissionLevel': 'siteRestrictedUser'}, {'siteUrl': 'https://www.samsung.com/africa_pt/', 'permissionLevel': 'siteRestrictedUser'}, {'siteUrl': 'https://www.samsung.com/py/', 'permissionLevel': 'siteRestrictedUser'}, {'siteUrl': 'https://www.samsung.com/hk_en/', 'permissionLevel': 'siteRestrictedUser'}, {'siteUrl': 'https://www.samsung.com/sg/', 'permissionLevel': 'siteRestrictedUser'}, {'siteUrl': 'https://www.samsung.com/no/', 'permissionLevel': 'siteRestrictedUser'}, {'siteUrl': 'https://www.samsung.com/ar/', 'permissionLevel': 'siteRestrictedUser'}, {'siteUrl': 'https://www.samsung.com/de/', 'permissionLevel': 'siteRestrictedUser'}, {'siteUrl': 'https://www.samsung.com/pl/', 'permissionLevel': 'siteRestrictedUser'}, {'siteUrl': 'https://www.samsung.com/ca/', 'permissionLevel': 'siteRestrictedUser'}, {'siteUrl': 'https://www.samsung.com/lb/', 'permissionLevel': 'siteRestrictedUser'}]}\n"
     ]
    }
   ],
   "source": [
    "# Get a list of site in my Google Search Console Account\n",
    "site_list = webmasters_service.sites().list().execute()\n",
    "print(site_list)"
   ]
  },
  {
   "cell_type": "code",
   "execution_count": 27,
   "id": "7d3b4353-e6cf-4ec4-93af-1bb974ff0717",
   "metadata": {},
   "outputs": [
    {
     "name": "stdout",
     "output_type": "stream",
     "text": [
      "https://www.samsung.com/cz/\n",
      "https://www.samsung.com/ch_fr/\n",
      "https://www.samsung.com/rs/\n",
      "https://www.samsung.com/co/\n",
      "https://www.samsung.com/jp/\n",
      "https://www.ascentkorea.com/\n",
      "https://www.samsung.com/cl/\n",
      "https://www.samsung.com/br/\n",
      "https://www.samsung.com/mk/\n",
      "https://www.samsung.com/sa_en/\n",
      "https://www.samsung.com/cn/\n",
      "https://www.samsung.com/africa_fr/\n",
      "https://www.samsung.com/levant/\n",
      "https://www.samsung.com/bd/\n",
      "https://www.samsung.com/ae_ar/\n",
      "https://www.samsung.com/pe/\n",
      "https://www.samsung.com/iran/\n",
      "https://www.samsung.com/at/\n",
      "https://www.samsung.com/be/\n",
      "https://www.samsung.com/\n",
      "https://www.samsung.com/il/\n",
      "https://www.samsung.com/es/\n",
      "https://www.samsung.com/mm/\n",
      "https://www.samsung.com/az/\n",
      "https://www.samsung.com/be_fr/\n",
      "https://www.samsung.com/id/\n",
      "https://www.samsung.com/lt/\n",
      "https://www.samsung.com/za/\n",
      "https://www.samsung.com/pt/\n",
      "https://www.samsung.com/mx/\n",
      "https://www.samsung.com/se/\n",
      "https://www.samsung.com/iq_ku/\n",
      "https://www.samsung.com/hk/\n",
      "https://www.samsung.com/tw/\n",
      "https://www.samsung.com/lv/\n",
      "https://www.samsung.com/latin_en/\n",
      "https://www.samsung.com/sa/\n",
      "https://www.samsung.com/uz_ru/\n",
      "https://www.samsung.com/tr/\n",
      "https://www.samsung.com/ee/\n",
      "https://www.samsung.com/ae/\n",
      "https://www.samsung.com/levant_ar/\n",
      "https://www.samsung.com/ph/\n",
      "https://www.samsung.com/kz_ru/\n",
      "https://www.samsung.com/ie/\n",
      "https://www.samsung.com/mn/\n",
      "https://www.samsung.com/latin/\n",
      "https://www.samsung.com/fi/\n",
      "https://www.samsung.com/nz/\n",
      "https://www.samsung.com/nl/\n",
      "https://www.samsung.com/th/\n",
      "https://www.samsung.com/au/\n",
      "https://www.samsung.com/my/\n",
      "https://www.samsung.com/ru/\n",
      "https://www.samsung.com.cn/\n",
      "https://www.samsung.com/sk/\n",
      "https://www.samsung.com/africa_en/\n",
      "https://www.samsung.com/ro/\n",
      "https://www.samsung.com/it/\n",
      "https://www.samsung.com/ch/\n",
      "https://www.samsung.com/pk/\n",
      "https://www.samsung.com/uy/\n",
      "https://www.samsung.com/uz_uz/\n",
      "https://www.samsung.com/vn/\n",
      "https://www.samsung.com/dk/\n",
      "https://www.samsung.com/eg/\n",
      "https://www.samsung.com/hu/\n",
      "https://www.samsung.com/ps/\n",
      "https://www.samsung.com/fr/\n",
      "https://www.samsung.com/si/\n",
      "https://www.samsung.com/ge/\n",
      "https://www.samsung.com/al/\n",
      "https://www.samsung.com/ba/\n",
      "https://www.samsung.com/ca_fr/\n",
      "https://www.samsung.com/gr/\n",
      "https://www.samsung.com/uk/\n",
      "https://www.samsung.com/hr/\n",
      "https://www.samsung.com/in/\n",
      "https://www.samsung.com/us/\n",
      "https://www.samsung.com/bg/\n",
      "https://www.samsung.com/n_africa/\n",
      "https://www.samsung.com/us/smartphones/galaxy-s24/galaxy-ai/\n",
      "https://www.samsung.com/sec/\n",
      "https://www.samsung.com/ua/\n",
      "https://www.samsung.com/iq_ar/\n",
      "https://www.samsung.com/kz_kz/\n",
      "https://www.samsung.com/africa_pt/\n",
      "https://www.samsung.com/py/\n",
      "https://www.samsung.com/hk_en/\n",
      "https://www.samsung.com/sg/\n",
      "https://www.samsung.com/no/\n",
      "https://www.samsung.com/ar/\n",
      "https://www.samsung.com/de/\n",
      "https://www.samsung.com/pl/\n",
      "https://www.samsung.com/ca/\n",
      "https://www.samsung.com/lb/\n"
     ]
    }
   ],
   "source": [
    "for each in site_list['siteEntry']:\n",
    "    print(each['siteUrl'])"
   ]
  },
  {
   "cell_type": "markdown",
   "id": "57341365-fdfc-49a4-a033-9ceb0bb1ccdd",
   "metadata": {},
   "source": [
    "How to get Google Search Console Analytics Ddata using API?"
   ]
  },
  {
   "cell_type": "code",
   "execution_count": 39,
   "id": "3ed0a47e-a80a-4d50-94d2-71cb40e74820",
   "metadata": {},
   "outputs": [],
   "source": [
    "# the website we want to get the data for\n",
    "website = \"https://www.samsung.com/uk/\"\n",
    "\n",
    "# build a request body\n",
    "request_body = {\n",
    "    \"startDate\" : '2022-10-01',\n",
    "    \"endDate\" : '2022-12-01',\n",
    "    \"dimensions\" : ['Date'],\n",
    "    \"rowLimit\": 25000,\n",
    "    \"dataState\" : \"final\"\n",
    "}\n",
    "\n",
    "# get the response using request body\n",
    "response_data = webmasters_service.searchanalytics().query(siteUrl=website, body=request_body).execute()"
   ]
  },
  {
   "cell_type": "code",
   "execution_count": 40,
   "id": "58c660a1-6fd8-4892-bea9-8cdf933e1913",
   "metadata": {},
   "outputs": [
    {
     "data": {
      "text/plain": [
       "{'rows': [{'keys': ['2022-10-31'],\n",
       "   'clicks': 121288,\n",
       "   'impressions': 2204395,\n",
       "   'ctr': 0.05502099215430991,\n",
       "   'position': 10.559220103475104},\n",
       "  {'keys': ['2022-11-01'],\n",
       "   'clicks': 126062,\n",
       "   'impressions': 2297625,\n",
       "   'ctr': 0.054866220553832765,\n",
       "   'position': 10.898461672379087},\n",
       "  {'keys': ['2022-11-02'],\n",
       "   'clicks': 126398,\n",
       "   'impressions': 2273457,\n",
       "   'ctr': 0.05559726882892441,\n",
       "   'position': 10.7181059505414},\n",
       "  {'keys': ['2022-11-03'],\n",
       "   'clicks': 123610,\n",
       "   'impressions': 2304020,\n",
       "   'ctr': 0.05364970790184113,\n",
       "   'position': 11.066614873134782},\n",
       "  {'keys': ['2022-11-04'],\n",
       "   'clicks': 120475,\n",
       "   'impressions': 2279317,\n",
       "   'ctr': 0.05285574582210373,\n",
       "   'position': 11.070017027030465},\n",
       "  {'keys': ['2022-11-05'],\n",
       "   'clicks': 128004,\n",
       "   'impressions': 2393881,\n",
       "   'ctr': 0.053471329610786836,\n",
       "   'position': 11.203916151220549},\n",
       "  {'keys': ['2022-11-06'],\n",
       "   'clicks': 139993,\n",
       "   'impressions': 2549709,\n",
       "   'ctr': 0.05490548137061916,\n",
       "   'position': 11.399197320164772},\n",
       "  {'keys': ['2022-11-07'],\n",
       "   'clicks': 135932,\n",
       "   'impressions': 2445600,\n",
       "   'ctr': 0.05558227019954203,\n",
       "   'position': 11.250769954203468},\n",
       "  {'keys': ['2022-11-08'],\n",
       "   'clicks': 129649,\n",
       "   'impressions': 2373855,\n",
       "   'ctr': 0.054615382995170304,\n",
       "   'position': 10.865714628736802},\n",
       "  {'keys': ['2022-11-09'],\n",
       "   'clicks': 130683,\n",
       "   'impressions': 2362156,\n",
       "   'ctr': 0.05532361114168582,\n",
       "   'position': 10.759081533988441},\n",
       "  {'keys': ['2022-11-10'],\n",
       "   'clicks': 129609,\n",
       "   'impressions': 2314940,\n",
       "   'ctr': 0.05598806016570624,\n",
       "   'position': 10.573096926918192},\n",
       "  {'keys': ['2022-11-11'],\n",
       "   'clicks': 129996,\n",
       "   'impressions': 2339690,\n",
       "   'ctr': 0.055561206826545396,\n",
       "   'position': 10.34660403728699},\n",
       "  {'keys': ['2022-11-12'],\n",
       "   'clicks': 131018,\n",
       "   'impressions': 2382572,\n",
       "   'ctr': 0.05499015349798453,\n",
       "   'position': 10.57005664466803},\n",
       "  {'keys': ['2022-11-13'],\n",
       "   'clicks': 139184,\n",
       "   'impressions': 2423771,\n",
       "   'ctr': 0.05742456692484562,\n",
       "   'position': 10.697682248034159},\n",
       "  {'keys': ['2022-11-14'],\n",
       "   'clicks': 140257,\n",
       "   'impressions': 2528793,\n",
       "   'ctr': 0.055464009905120744,\n",
       "   'position': 10.649682279253383},\n",
       "  {'keys': ['2022-11-15'],\n",
       "   'clicks': 136235,\n",
       "   'impressions': 2406930,\n",
       "   'ctr': 0.05660114751986971,\n",
       "   'position': 10.358570045659825},\n",
       "  {'keys': ['2022-11-16'],\n",
       "   'clicks': 136203,\n",
       "   'impressions': 2352985,\n",
       "   'ctr': 0.05788519688820796,\n",
       "   'position': 10.272012358769818},\n",
       "  {'keys': ['2022-11-17'],\n",
       "   'clicks': 140245,\n",
       "   'impressions': 2413076,\n",
       "   'ctr': 0.058118766255186326,\n",
       "   'position': 10.345566405699612},\n",
       "  {'keys': ['2022-11-18'],\n",
       "   'clicks': 147899,\n",
       "   'impressions': 2502719,\n",
       "   'ctr': 0.05909532792135274,\n",
       "   'position': 10.081193294173257},\n",
       "  {'keys': ['2022-11-19'],\n",
       "   'clicks': 149677,\n",
       "   'impressions': 2592687,\n",
       "   'ctr': 0.05773045492957692,\n",
       "   'position': 11.379139093920708},\n",
       "  {'keys': ['2022-11-20'],\n",
       "   'clicks': 159574,\n",
       "   'impressions': 2629246,\n",
       "   'ctr': 0.06069192460500083,\n",
       "   'position': 10.646970272085609},\n",
       "  {'keys': ['2022-11-21'],\n",
       "   'clicks': 152389,\n",
       "   'impressions': 2599942,\n",
       "   'ctr': 0.05861246135490715,\n",
       "   'position': 10.52926488360125},\n",
       "  {'keys': ['2022-11-22'],\n",
       "   'clicks': 144490,\n",
       "   'impressions': 2533095,\n",
       "   'ctr': 0.05704089266292816,\n",
       "   'position': 10.448059389797857},\n",
       "  {'keys': ['2022-11-23'],\n",
       "   'clicks': 148163,\n",
       "   'impressions': 2591171,\n",
       "   'ctr': 0.057179939108611515,\n",
       "   'position': 10.340051274115062},\n",
       "  {'keys': ['2022-11-24'],\n",
       "   'clicks': 163611,\n",
       "   'impressions': 2738013,\n",
       "   'ctr': 0.05975537734846401,\n",
       "   'position': 9.985089917396301},\n",
       "  {'keys': ['2022-11-25'],\n",
       "   'clicks': 186091,\n",
       "   'impressions': 3013368,\n",
       "   'ctr': 0.061755152374353216,\n",
       "   'position': 9.325094379445192},\n",
       "  {'keys': ['2022-11-26'],\n",
       "   'clicks': 160814,\n",
       "   'impressions': 2736840,\n",
       "   'ctr': 0.05875900673769749,\n",
       "   'position': 11.170406746466728},\n",
       "  {'keys': ['2022-11-27'],\n",
       "   'clicks': 162562,\n",
       "   'impressions': 2776404,\n",
       "   'ctr': 0.05855127711961228,\n",
       "   'position': 11.715204991780736},\n",
       "  {'keys': ['2022-11-28'],\n",
       "   'clicks': 165642,\n",
       "   'impressions': 2730451,\n",
       "   'ctr': 0.060664703376841406,\n",
       "   'position': 10.842361939474468},\n",
       "  {'keys': ['2022-11-29'],\n",
       "   'clicks': 140960,\n",
       "   'impressions': 2490925,\n",
       "   'ctr': 0.05658941959312304,\n",
       "   'position': 11.775289500888224},\n",
       "  {'keys': ['2022-11-30'],\n",
       "   'clicks': 136482,\n",
       "   'impressions': 2491313,\n",
       "   'ctr': 0.054783160526196424,\n",
       "   'position': 11.619934949964135},\n",
       "  {'keys': ['2022-12-01'],\n",
       "   'clicks': 140055,\n",
       "   'impressions': 2465310,\n",
       "   'ctr': 0.05681029971889945,\n",
       "   'position': 11.204442037715339}],\n",
       " 'responseAggregationType': 'byProperty'}"
      ]
     },
     "execution_count": 40,
     "metadata": {},
     "output_type": "execute_result"
    }
   ],
   "source": [
    "response_data"
   ]
  },
  {
   "cell_type": "code",
   "execution_count": 36,
   "id": "b28f8ecf-f47c-4bd7-b776-38d4a0869144",
   "metadata": {},
   "outputs": [
    {
     "data": {
      "text/plain": [
       "25000"
      ]
     },
     "execution_count": 36,
     "metadata": {},
     "output_type": "execute_result"
    }
   ],
   "source": [
    "len(response_data['rows'])"
   ]
  },
  {
   "cell_type": "code",
   "execution_count": null,
   "id": "7929738c-799a-43e6-b401-04dad60267fd",
   "metadata": {},
   "outputs": [],
   "source": [
    "for each in response_data['rows']:\n",
    "    print(each)"
   ]
  }
 ],
 "metadata": {
  "kernelspec": {
   "display_name": "Python 3 (ipykernel)",
   "language": "python",
   "name": "python3"
  },
  "language_info": {
   "codemirror_mode": {
    "name": "ipython",
    "version": 3
   },
   "file_extension": ".py",
   "mimetype": "text/x-python",
   "name": "python",
   "nbconvert_exporter": "python",
   "pygments_lexer": "ipython3",
   "version": "3.12.2"
  }
 },
 "nbformat": 4,
 "nbformat_minor": 5
}
