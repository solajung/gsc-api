{
 "cells": [
  {
   "cell_type": "code",
   "execution_count": 3,
   "id": "1b0f68f3-e78b-4e13-825c-c9fc3070c71a",
   "metadata": {},
   "outputs": [
    {
     "name": "stdout",
     "output_type": "stream",
     "text": [
      "Requirement already satisfied: oauth2client in c:\\users\\user\\appdata\\local\\programs\\python\\python312\\lib\\site-packages (4.1.3)\n",
      "Requirement already satisfied: httplib2>=0.9.1 in c:\\users\\user\\appdata\\local\\programs\\python\\python312\\lib\\site-packages (from oauth2client) (0.22.0)\n",
      "Requirement already satisfied: pyasn1>=0.1.7 in c:\\users\\user\\appdata\\local\\programs\\python\\python312\\lib\\site-packages (from oauth2client) (0.5.1)\n",
      "Requirement already satisfied: pyasn1-modules>=0.0.5 in c:\\users\\user\\appdata\\local\\programs\\python\\python312\\lib\\site-packages (from oauth2client) (0.3.0)\n",
      "Requirement already satisfied: rsa>=3.1.4 in c:\\users\\user\\appdata\\local\\programs\\python\\python312\\lib\\site-packages (from oauth2client) (4.9)\n",
      "Requirement already satisfied: six>=1.6.1 in c:\\users\\user\\appdata\\local\\programs\\python\\python312\\lib\\site-packages (from oauth2client) (1.16.0)\n",
      "Requirement already satisfied: pyparsing!=3.0.0,!=3.0.1,!=3.0.2,!=3.0.3,<4,>=2.4.2 in c:\\users\\user\\appdata\\local\\programs\\python\\python312\\lib\\site-packages (from httplib2>=0.9.1->oauth2client) (3.1.2)\n",
      "Collecting google-api-python-client\n",
      "  Downloading google_api_python_client-2.122.0-py2.py3-none-any.whl.metadata (6.6 kB)\n",
      "Requirement already satisfied: httplib2<1.dev0,>=0.15.0 in c:\\users\\user\\appdata\\local\\programs\\python\\python312\\lib\\site-packages (from google-api-python-client) (0.22.0)\n",
      "Collecting google-auth<3.0.0.dev0,>=1.19.0 (from google-api-python-client)\n",
      "  Downloading google_auth-2.28.2-py2.py3-none-any.whl.metadata (4.7 kB)\n",
      "Collecting google-auth-httplib2>=0.1.0 (from google-api-python-client)\n",
      "  Downloading google_auth_httplib2-0.2.0-py2.py3-none-any.whl.metadata (2.2 kB)\n",
      "Collecting google-api-core!=2.0.*,!=2.1.*,!=2.2.*,!=2.3.0,<3.0.0.dev0,>=1.31.5 (from google-api-python-client)\n",
      "  Downloading google_api_core-2.17.1-py3-none-any.whl.metadata (2.7 kB)\n",
      "Collecting uritemplate<5,>=3.0.1 (from google-api-python-client)\n",
      "  Downloading uritemplate-4.1.1-py2.py3-none-any.whl.metadata (2.9 kB)\n",
      "Collecting googleapis-common-protos<2.0.dev0,>=1.56.2 (from google-api-core!=2.0.*,!=2.1.*,!=2.2.*,!=2.3.0,<3.0.0.dev0,>=1.31.5->google-api-python-client)\n",
      "  Downloading googleapis_common_protos-1.63.0-py2.py3-none-any.whl.metadata (1.5 kB)\n",
      "Collecting protobuf!=3.20.0,!=3.20.1,!=4.21.0,!=4.21.1,!=4.21.2,!=4.21.3,!=4.21.4,!=4.21.5,<5.0.0.dev0,>=3.19.5 (from google-api-core!=2.0.*,!=2.1.*,!=2.2.*,!=2.3.0,<3.0.0.dev0,>=1.31.5->google-api-python-client)\n",
      "  Downloading protobuf-4.25.3-cp310-abi3-win_amd64.whl.metadata (541 bytes)\n",
      "Requirement already satisfied: requests<3.0.0.dev0,>=2.18.0 in c:\\users\\user\\appdata\\local\\programs\\python\\python312\\lib\\site-packages (from google-api-core!=2.0.*,!=2.1.*,!=2.2.*,!=2.3.0,<3.0.0.dev0,>=1.31.5->google-api-python-client) (2.31.0)\n",
      "Collecting cachetools<6.0,>=2.0.0 (from google-auth<3.0.0.dev0,>=1.19.0->google-api-python-client)\n",
      "  Downloading cachetools-5.3.3-py3-none-any.whl.metadata (5.3 kB)\n",
      "Requirement already satisfied: pyasn1-modules>=0.2.1 in c:\\users\\user\\appdata\\local\\programs\\python\\python312\\lib\\site-packages (from google-auth<3.0.0.dev0,>=1.19.0->google-api-python-client) (0.3.0)\n",
      "Requirement already satisfied: rsa<5,>=3.1.4 in c:\\users\\user\\appdata\\local\\programs\\python\\python312\\lib\\site-packages (from google-auth<3.0.0.dev0,>=1.19.0->google-api-python-client) (4.9)\n",
      "Requirement already satisfied: pyparsing!=3.0.0,!=3.0.1,!=3.0.2,!=3.0.3,<4,>=2.4.2 in c:\\users\\user\\appdata\\local\\programs\\python\\python312\\lib\\site-packages (from httplib2<1.dev0,>=0.15.0->google-api-python-client) (3.1.2)\n",
      "Requirement already satisfied: pyasn1<0.6.0,>=0.4.6 in c:\\users\\user\\appdata\\local\\programs\\python\\python312\\lib\\site-packages (from pyasn1-modules>=0.2.1->google-auth<3.0.0.dev0,>=1.19.0->google-api-python-client) (0.5.1)\n",
      "Requirement already satisfied: charset-normalizer<4,>=2 in c:\\users\\user\\appdata\\local\\programs\\python\\python312\\lib\\site-packages (from requests<3.0.0.dev0,>=2.18.0->google-api-core!=2.0.*,!=2.1.*,!=2.2.*,!=2.3.0,<3.0.0.dev0,>=1.31.5->google-api-python-client) (3.3.2)\n",
      "Requirement already satisfied: idna<4,>=2.5 in c:\\users\\user\\appdata\\local\\programs\\python\\python312\\lib\\site-packages (from requests<3.0.0.dev0,>=2.18.0->google-api-core!=2.0.*,!=2.1.*,!=2.2.*,!=2.3.0,<3.0.0.dev0,>=1.31.5->google-api-python-client) (3.6)\n",
      "Requirement already satisfied: urllib3<3,>=1.21.1 in c:\\users\\user\\appdata\\local\\programs\\python\\python312\\lib\\site-packages (from requests<3.0.0.dev0,>=2.18.0->google-api-core!=2.0.*,!=2.1.*,!=2.2.*,!=2.3.0,<3.0.0.dev0,>=1.31.5->google-api-python-client) (2.2.1)\n",
      "Requirement already satisfied: certifi>=2017.4.17 in c:\\users\\user\\appdata\\local\\programs\\python\\python312\\lib\\site-packages (from requests<3.0.0.dev0,>=2.18.0->google-api-core!=2.0.*,!=2.1.*,!=2.2.*,!=2.3.0,<3.0.0.dev0,>=1.31.5->google-api-python-client) (2024.2.2)\n",
      "Downloading google_api_python_client-2.122.0-py2.py3-none-any.whl (12.4 MB)\n",
      "   ---------------------------------------- 0.0/12.4 MB ? eta -:--:--\n",
      "   ---------------------------------------- 0.1/12.4 MB ? eta -:--:--\n",
      "   - -------------------------------------- 0.3/12.4 MB 5.3 MB/s eta 0:00:03\n",
      "   -- ------------------------------------- 0.8/12.4 MB 7.1 MB/s eta 0:00:02\n",
      "   --- ------------------------------------ 1.2/12.4 MB 7.4 MB/s eta 0:00:02\n",
      "   ---- ----------------------------------- 1.5/12.4 MB 7.5 MB/s eta 0:00:02\n",
      "   ----- ---------------------------------- 1.8/12.4 MB 6.8 MB/s eta 0:00:02\n",
      "   ------- -------------------------------- 2.2/12.4 MB 7.0 MB/s eta 0:00:02\n",
      "   ------- -------------------------------- 2.3/12.4 MB 6.5 MB/s eta 0:00:02\n",
      "   ------- -------------------------------- 2.3/12.4 MB 6.5 MB/s eta 0:00:02\n",
      "   ------- -------------------------------- 2.3/12.4 MB 6.5 MB/s eta 0:00:02\n",
      "   ------- -------------------------------- 2.3/12.4 MB 6.5 MB/s eta 0:00:02\n",
      "   ------- -------------------------------- 2.3/12.4 MB 6.5 MB/s eta 0:00:02\n",
      "   ------- -------------------------------- 2.3/12.4 MB 6.5 MB/s eta 0:00:02\n",
      "   ------- -------------------------------- 2.3/12.4 MB 6.5 MB/s eta 0:00:02\n",
      "   ------- -------------------------------- 2.3/12.4 MB 6.5 MB/s eta 0:00:02\n",
      "   ------- -------------------------------- 2.3/12.4 MB 6.5 MB/s eta 0:00:02\n",
      "   ------- -------------------------------- 2.3/12.4 MB 6.5 MB/s eta 0:00:02\n",
      "   ------- -------------------------------- 2.3/12.4 MB 6.5 MB/s eta 0:00:02\n",
      "   ------- -------------------------------- 2.3/12.4 MB 2.6 MB/s eta 0:00:04\n",
      "   ------- -------------------------------- 2.4/12.4 MB 2.6 MB/s eta 0:00:04\n",
      "   ------- -------------------------------- 2.4/12.4 MB 2.6 MB/s eta 0:00:04\n",
      "   ------- -------------------------------- 2.4/12.4 MB 2.6 MB/s eta 0:00:04\n",
      "   ------- -------------------------------- 2.4/12.4 MB 2.3 MB/s eta 0:00:05\n",
      "   ------- -------------------------------- 2.4/12.4 MB 2.3 MB/s eta 0:00:05\n",
      "   -------- ------------------------------- 2.8/12.4 MB 2.5 MB/s eta 0:00:04\n",
      "   --------- ------------------------------ 3.0/12.4 MB 2.6 MB/s eta 0:00:04\n",
      "   ---------- ----------------------------- 3.3/12.4 MB 2.7 MB/s eta 0:00:04\n",
      "   ----------- ---------------------------- 3.7/12.4 MB 2.9 MB/s eta 0:00:03\n",
      "   ------------ --------------------------- 3.9/12.4 MB 3.0 MB/s eta 0:00:03\n",
      "   ------------- -------------------------- 4.2/12.4 MB 3.1 MB/s eta 0:00:03\n",
      "   -------------- ------------------------- 4.5/12.4 MB 3.2 MB/s eta 0:00:03\n",
      "   --------------- ------------------------ 4.8/12.4 MB 3.3 MB/s eta 0:00:03\n",
      "   ---------------- ----------------------- 5.0/12.4 MB 3.3 MB/s eta 0:00:03\n",
      "   ----------------- ---------------------- 5.3/12.4 MB 3.4 MB/s eta 0:00:03\n",
      "   ------------------ --------------------- 5.6/12.4 MB 3.6 MB/s eta 0:00:02\n",
      "   ------------------- -------------------- 6.0/12.4 MB 3.7 MB/s eta 0:00:02\n",
      "   -------------------- ------------------- 6.3/12.4 MB 3.7 MB/s eta 0:00:02\n",
      "   --------------------- ------------------ 6.6/12.4 MB 3.8 MB/s eta 0:00:02\n",
      "   ---------------------- ----------------- 6.9/12.4 MB 3.9 MB/s eta 0:00:02\n",
      "   ----------------------- ---------------- 7.3/12.4 MB 4.0 MB/s eta 0:00:02\n",
      "   ------------------------ --------------- 7.7/12.4 MB 4.1 MB/s eta 0:00:02\n",
      "   -------------------------- ------------- 8.1/12.4 MB 4.2 MB/s eta 0:00:02\n",
      "   --------------------------- ------------ 8.4/12.4 MB 4.2 MB/s eta 0:00:01\n",
      "   ---------------------------- ----------- 8.8/12.4 MB 4.3 MB/s eta 0:00:01\n",
      "   ---------------------------- ----------- 8.8/12.4 MB 4.3 MB/s eta 0:00:01\n",
      "   ---------------------------- ----------- 8.8/12.4 MB 4.3 MB/s eta 0:00:01\n",
      "   ---------------------------- ----------- 8.8/12.4 MB 4.3 MB/s eta 0:00:01\n",
      "   ---------------------------- ----------- 8.8/12.4 MB 4.3 MB/s eta 0:00:01\n",
      "   ---------------------------- ----------- 8.8/12.4 MB 4.3 MB/s eta 0:00:01\n",
      "   ---------------------------- ----------- 8.8/12.4 MB 4.3 MB/s eta 0:00:01\n",
      "   ---------------------------- ----------- 8.9/12.4 MB 3.8 MB/s eta 0:00:01\n",
      "   ---------------------------- ----------- 8.9/12.4 MB 3.7 MB/s eta 0:00:01\n",
      "   ---------------------------- ----------- 8.9/12.4 MB 3.7 MB/s eta 0:00:01\n",
      "   ---------------------------- ----------- 8.9/12.4 MB 3.5 MB/s eta 0:00:01\n",
      "   ---------------------------- ----------- 8.9/12.4 MB 3.5 MB/s eta 0:00:01\n",
      "   ---------------------------- ----------- 8.9/12.4 MB 3.4 MB/s eta 0:00:01\n",
      "   ----------------------------- ---------- 9.1/12.4 MB 3.4 MB/s eta 0:00:01\n",
      "   ----------------------------- ---------- 9.2/12.4 MB 3.4 MB/s eta 0:00:01\n",
      "   ------------------------------ --------- 9.3/12.4 MB 3.4 MB/s eta 0:00:01\n",
      "   ------------------------------ --------- 9.5/12.4 MB 3.4 MB/s eta 0:00:01\n",
      "   ------------------------------- -------- 9.7/12.4 MB 3.4 MB/s eta 0:00:01\n",
      "   -------------------------------- ------- 9.9/12.4 MB 3.4 MB/s eta 0:00:01\n",
      "   -------------------------------- ------- 10.0/12.4 MB 3.4 MB/s eta 0:00:01\n",
      "   --------------------------------- ------ 10.2/12.4 MB 3.4 MB/s eta 0:00:01\n",
      "   --------------------------------- ------ 10.5/12.4 MB 3.4 MB/s eta 0:00:01\n",
      "   ---------------------------------- ----- 10.6/12.4 MB 3.4 MB/s eta 0:00:01\n",
      "   ---------------------------------- ----- 10.7/12.4 MB 3.4 MB/s eta 0:00:01\n",
      "   ----------------------------------- ---- 10.9/12.4 MB 3.3 MB/s eta 0:00:01\n",
      "   ----------------------------------- ---- 11.1/12.4 MB 3.3 MB/s eta 0:00:01\n",
      "   ------------------------------------ --- 11.4/12.4 MB 3.3 MB/s eta 0:00:01\n",
      "   ------------------------------------- -- 11.6/12.4 MB 3.3 MB/s eta 0:00:01\n",
      "   ------------------------------------- -- 11.7/12.4 MB 3.2 MB/s eta 0:00:01\n",
      "   -------------------------------------- - 12.0/12.4 MB 3.2 MB/s eta 0:00:01\n",
      "   ---------------------------------------  12.2/12.4 MB 3.2 MB/s eta 0:00:01\n",
      "   ---------------------------------------  12.3/12.4 MB 3.2 MB/s eta 0:00:01\n",
      "   ---------------------------------------- 12.4/12.4 MB 3.1 MB/s eta 0:00:00\n",
      "Downloading google_api_core-2.17.1-py3-none-any.whl (137 kB)\n",
      "   ---------------------------------------- 0.0/137.0 kB ? eta -:--:--\n",
      "   ---------------------------------------- 137.0/137.0 kB 7.9 MB/s eta 0:00:00\n",
      "Downloading google_auth-2.28.2-py2.py3-none-any.whl (186 kB)\n",
      "   ---------------------------------------- 0.0/186.9 kB ? eta -:--:--\n",
      "   ---------------------------------------- 186.9/186.9 kB 5.7 MB/s eta 0:00:00\n",
      "Downloading google_auth_httplib2-0.2.0-py2.py3-none-any.whl (9.3 kB)\n",
      "Downloading uritemplate-4.1.1-py2.py3-none-any.whl (10 kB)\n",
      "Downloading cachetools-5.3.3-py3-none-any.whl (9.3 kB)\n",
      "Downloading googleapis_common_protos-1.63.0-py2.py3-none-any.whl (229 kB)\n",
      "   ---------------------------------------- 0.0/229.1 kB ? eta -:--:--\n",
      "   ------------------------------ --------- 174.1/229.1 kB 3.5 MB/s eta 0:00:01\n",
      "   ---------------------------------------- 229.1/229.1 kB 3.5 MB/s eta 0:00:00\n",
      "Downloading protobuf-4.25.3-cp310-abi3-win_amd64.whl (413 kB)\n",
      "   ---------------------------------------- 0.0/413.4 kB ? eta -:--:--\n",
      "   ---------- ----------------------------- 112.6/413.4 kB 3.2 MB/s eta 0:00:01\n",
      "   ------------------------------------- -- 389.1/413.4 kB 4.8 MB/s eta 0:00:01\n",
      "   ---------------------------------------- 413.4/413.4 kB 4.3 MB/s eta 0:00:00\n",
      "Installing collected packages: uritemplate, protobuf, cachetools, googleapis-common-protos, google-auth, google-auth-httplib2, google-api-core, google-api-python-client\n",
      "Successfully installed cachetools-5.3.3 google-api-core-2.17.1 google-api-python-client-2.122.0 google-auth-2.28.2 google-auth-httplib2-0.2.0 googleapis-common-protos-1.63.0 protobuf-4.25.3 uritemplate-4.1.1\n"
     ]
    }
   ],
   "source": [
    "#Install required python packages\n",
    "!pip install oauth2client\n",
    "!pip install google-api-python-client"
   ]
  },
  {
   "cell_type": "code",
   "execution_count": 1,
   "id": "12b26c54-2df1-4a13-8f97-eb858c0812cf",
   "metadata": {},
   "outputs": [],
   "source": [
    "# Import required packages\n",
    "from oauth2client.client import OAuth2WebServerFlow\n",
    "from googleapiclient.discovery import build"
   ]
  },
  {
   "cell_type": "code",
   "execution_count": 2,
   "id": "f0a5720d-5988-4f32-97f1-c3cd618c3100",
   "metadata": {},
   "outputs": [],
   "source": [
    "# Google Cloud Project Client ID & Client Secrets\n",
    "CLIENT_ID = \"165277451909-549djem84js33jh3thql01iccovj6hsl.apps.googleusercontent.com\"\n",
    "CLIENT_SECRET = \"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\"\n",
    "\n",
    "# Define Oath scopes with read only access\n",
    "OAUTH_SCOPE = \"https://www.googleapis.com/auth/webmasters.readonly\"\n",
    "\n",
    "#OAUTH_SCOPE = \"https://www.googleapis.com/auth/webmasters\"\n",
    "\n",
    "# Redirect URI to open Authorization Code window in Browse\n",
    "REDIRECT_URI = \"oob\""
   ]
  },
  {
   "cell_type": "code",
   "execution_count": 3,
   "id": "36c83629-1c80-4ac2-a3ba-b4b1859f41d2",
   "metadata": {},
   "outputs": [
    {
     "name": "stderr",
     "output_type": "stream",
     "text": [
      "__init__() takes at most 4 positional arguments (5 given)\n"
     ]
    },
    {
     "name": "stdout",
     "output_type": "stream",
     "text": [
      "Go to the following link in your browser:  https://accounts.google.com/o/oauth2/v2/auth?client_id=165277451909-549djem84js33jh3thql01iccovj6hsl.apps.googleusercontent.com&redirect_uri=oob&scope=https%3A%2F%2Fwww.googleapis.com%2Fauth%2Fwebmasters.readonly&access_type=offline&response_type=code\n"
     ]
    }
   ],
   "source": [
    "# Build URL that generates Authorization Code\n",
    "flow = OAuth2WebServerFlow(CLIENT_ID, CLIENT_SECRET, OAUTH_SCOPE, REDIRECT_URI)\n",
    "authorize_url = flow.step1_get_authorize_url()\n",
    "\n",
    "#Print Authorization URL\n",
    "print(\"Go to the following link in your browser: \", authorize_url)"
   ]
  },
  {
   "cell_type": "code",
   "execution_count": null,
   "id": "55c6a292-2c42-4ef6-860c-759f36315232",
   "metadata": {},
   "outputs": [],
   "source": [
    "auth_code = input(\"Enter your Authorization Code here: \"("
   ]
  },
  {
   "cell_type": "code",
   "execution_count": null,
   "id": "c5ba3ba6-d5e8-4b45-b6c7-2a6f8eabbb0f",
   "metadata": {},
   "outputs": [],
   "source": [
    "# Get Credentials to build GSC API service\n",
    "credentials = flow.step2_exchange(auth_code)\n",
    "print(\"The credentials are generated successfully\")"
   ]
  },
  {
   "cell_type": "code",
   "execution_count": null,
   "id": "3e9e5005-7b16-4c77-8783-f37abe5a63a3",
   "metadata": {},
   "outputs": [],
   "source": [
    "webmasters_service = build(\"searchconsole\", \"v1\", http=creds)"
   ]
  }
 ],
 "metadata": {
  "kernelspec": {
   "display_name": "Python 3 (ipykernel)",
   "language": "python",
   "name": "python3"
  },
  "language_info": {
   "codemirror_mode": {
    "name": "ipython",
    "version": 3
   },
   "file_extension": ".py",
   "mimetype": "text/x-python",
   "name": "python",
   "nbconvert_exporter": "python",
   "pygments_lexer": "ipython3",
   "version": "3.12.2"
  }
 },
 "nbformat": 4,
 "nbformat_minor": 5
}
